{
 "cells": [
  {
   "cell_type": "code",
   "execution_count": null,
   "id": "d61a8291",
   "metadata": {},
   "outputs": [],
   "source": [
    "import numpy as np\n",
    "import matplotlib.pyplot as plt\n",
    "import threading\n",
    "\n",
    "import copy"
   ]
  },
  {
   "cell_type": "code",
   "execution_count": 2,
   "id": "e90ce9cb",
   "metadata": {},
   "outputs": [],
   "source": [
    "from IPython.display import clear_output\n",
    "%matplotlib inline\n",
    "import time"
   ]
  },
  {
   "cell_type": "code",
   "execution_count": null,
   "id": "a1c3dd76",
   "metadata": {},
   "outputs": [],
   "source": [
    "class Environment:\n",
    "    def __init__(self, grid_size=100, n_goals=10):\n",
    "        self.grid_size = grid_size\n",
    "        self.n_goals = n_goals\n",
    "        # state is a 2D numpy array representing the grid\n",
    "        self.map =  np.zeros((grid_size, grid_size))\n",
    "        self.goal_positions = np.random.randint(0, grid_size, (n_goals, 2))\n",
    "        for (i,j) in self.goal_positions:\n",
    "            self.map[i, j] = 5\n",
    "        self.map_with_positions = copy.deepcopy(self.map)\n",
    "        self.map_exploration = copy.deepcopy(self.map)\n",
    "        self.map_pheromore =  np.zeros((grid_size, grid_size))\n",
    "        #self._lock = threading.Lock()\n",
    "\n",
    "    def reset(self):\n",
    "        self.map = np.zeros((100, 100))\n",
    "        for (i,j) in self.goal_positions:\n",
    "            self.map[i, j] = 5\n",
    "\n",
    "    def update_map(self, position, pheromone=0):\n",
    "        #with self._lock:\n",
    "            x, y = position\n",
    "            if 0 <= x < self.grid_size and 0 <= y < self.grid_size:\n",
    "                self.map_pheromore[x, y] =+ pheromone\n",
    "                self.map_with_positions[x, y] =+ -1\n",
    "                self.map_exploration[x, y] = 1\n",
    "\n",
    "    def render(self):\n",
    "        clear_output(wait=True)\n",
    "        # create the heatmap\n",
    "        plt.imshow(self.map, cmap='hot', interpolation='nearest')\n",
    "        plt.show();\n",
    "        \n",
    "    def close(self):\n",
    "        pass"
   ]
  },
  {
   "cell_type": "code",
   "execution_count": 17,
   "id": "1313e4c1",
   "metadata": {},
   "outputs": [
    {
     "data": {
      "image/png": "[encoded data removed]",
      "text/plain": [
       "<Figure size 640x480 with 1 Axes>"
      ]
     },
     "metadata": {},
     "output_type": "display_data"
    }
   ],
   "source": [
    "%matplotlib inline\n",
    "env = Environment(grid_size=100, n_goals=10)\n",
    "env.render()"
   ]
  },
  {
   "cell_type": "code",
   "execution_count": null,
   "id": "da1116b5",
   "metadata": {},
   "outputs": [],
   "source": [
    "# Hyperparameters\n",
    "alpha = 0.1  # Learning rate\n",
    "gamma = 0.9  # Discount factor"
   ]
  },
  {
   "cell_type": "code",
   "execution_count": null,
   "id": "11b8c030",
   "metadata": {},
   "outputs": [],
   "source": [
    "class Ant:\n",
    "    def __init__(self):\n",
    "        \n",
    "\n",
    "    \n"
   ]
  },
  {
   "cell_type": "code",
   "execution_count": null,
   "id": "72a0b30a",
   "metadata": {},
   "outputs": [],
   "source": []
  },
  {
   "cell_type": "code",
   "execution_count": null,
   "id": "f6d5387e",
   "metadata": {},
   "outputs": [],
   "source": []
  },
  {
   "cell_type": "code",
   "execution_count": null,
   "id": "d4f8bdb5",
   "metadata": {},
   "outputs": [],
   "source": []
  },
  {
   "cell_type": "code",
   "execution_count": null,
   "id": "a201af44",
   "metadata": {},
   "outputs": [],
   "source": []
  },
  {
   "cell_type": "code",
   "execution_count": null,
   "metadata": {},
   "outputs": [],
   "source": []
  },
  {
   "cell_type": "code",
   "execution_count": null,
   "metadata": {},
   "outputs": [],
   "source": []
  }
 ],
 "metadata": {
  "kernelspec": {
   "display_name": "env",
   "language": "python",
   "name": "python3"
  },
  "language_info": {
   "codemirror_mode": {
    "name": "ipython",
    "version": 3
   },
   "file_extension": ".py",
   "mimetype": "text/x-python",
   "name": "python",
   "nbconvert_exporter": "python",
   "pygments_lexer": "ipython3",
   "version": "3.12.3"
  }
 },
 "nbformat": 4,
 "nbformat_minor": 5
}
