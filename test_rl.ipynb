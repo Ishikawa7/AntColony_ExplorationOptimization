{
 "cells": [
  {
   "cell_type": "code",
   "execution_count": null,
   "id": "d61a8291",
   "metadata": {},
   "outputs": [],
   "source": [
    "import numpy as np\n",
    "from sklearn.linear_model import LinearRegression"
   ]
  },
  {
   "cell_type": "code",
   "execution_count": 2,
   "id": "39a01d20",
   "metadata": {},
   "outputs": [
    {
     "data": {
      "text/plain": [
       "array([[0, 0, 0, ..., 0, 0, 0],\n",
       "       [0, 0, 0, ..., 0, 0, 0],\n",
       "       [0, 0, 0, ..., 0, 0, 0],\n",
       "       ...,\n",
       "       [0, 0, 0, ..., 0, 0, 0],\n",
       "       [0, 0, 0, ..., 0, 0, 0],\n",
       "       [0, 0, 0, ..., 0, 0, 0]], shape=(100, 100), dtype=uint8)"
      ]
     },
     "execution_count": 2,
     "metadata": {},
     "output_type": "execute_result"
    }
   ],
   "source": [
    "# create a 2D array of zeros with shape (100, 100)\n",
    "map = np.zeros((100, 100), dtype=np.uint8)\n",
    "# set the value at (50, 50) to 1\n",
    "map[50, 50] = 5\n",
    "map[25, 25] = 5\n",
    "map[10, 10] = 5\n",
    "map"
   ]
  },
  {
   "cell_type": "code",
   "execution_count": 9,
   "id": "c303b03b",
   "metadata": {},
   "outputs": [],
   "source": [
    "ant_map = np.zeros((100, 100), dtype=np.uint8) + 0.5\n",
    "ant_position = (99, 99)\n",
    "ant_direction = 0 # 0 degrees\n",
    "ant_map_position = ant_map.copy()\n",
    "ant_map_position[ant_position[0], ant_position[1]] =  -1\n",
    "ant_objectives = []"
   ]
  },
  {
   "cell_type": "code",
   "execution_count": null,
   "id": "a320211c",
   "metadata": {},
   "outputs": [],
   "source": []
  },
  {
   "cell_type": "code",
   "execution_count": null,
   "id": "1472f01a",
   "metadata": {},
   "outputs": [],
   "source": [
    "def ant_move(position, direction, speed = 1.5, n_steps = 20):\n",
    "    movements = []\n",
    "    for step in range(n_steps):\n",
    "        # Calculate new position based on direction and speed\n",
    "        new_x = position[0] + speed * np.cos(np.radians(direction))\n",
    "        new_y = position[1] + speed * np.sin(np.radians(direction))\n",
    "\n",
    "        # Ensure the new position is within bounds\n",
    "        new_x = max(0, min(100, int(new_x)))\n",
    "        new_y = max(0, min(100, int(new_y)))\n",
    "\n",
    "        position = (new_x, new_y)\n",
    "        movements.append(position)\n",
    "    \n",
    "    return movements\n",
    "    "
   ]
  },
  {
   "cell_type": "code",
   "execution_count": null,
   "id": "6da8795f",
   "metadata": {},
   "outputs": [],
   "source": [
    "def reward_function(movements, map):\n",
    "    pass"
   ]
  },
  {
   "cell_type": "code",
   "execution_count": null,
   "id": "2436bc90",
   "metadata": {},
   "outputs": [],
   "source": [
    "steps = 0\n",
    "ant_speed = 1.5"
   ]
  },
  {
   "cell_type": "code",
   "execution_count": null,
   "id": "a1c3dd76",
   "metadata": {},
   "outputs": [],
   "source": []
  },
  {
   "cell_type": "code",
   "execution_count": null,
   "id": "1313e4c1",
   "metadata": {},
   "outputs": [],
   "source": []
  }
 ],
 "metadata": {
  "kernelspec": {
   "display_name": "env",
   "language": "python",
   "name": "python3"
  },
  "language_info": {
   "codemirror_mode": {
    "name": "ipython",
    "version": 3
   },
   "file_extension": ".py",
   "mimetype": "text/x-python",
   "name": "python",
   "nbconvert_exporter": "python",
   "pygments_lexer": "ipython3",
   "version": "3.12.3"
  }
 },
 "nbformat": 4,
 "nbformat_minor": 5
}
